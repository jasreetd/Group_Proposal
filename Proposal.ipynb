{
 "cells": [
  {
   "cell_type": "markdown",
   "metadata": {},
   "source": [
    "## Title\n",
    "##### How does age, capital gain, capital loss and work hours per week affect the income of adults aged 17-90 in the US?"
   ]
  },
  {
   "cell_type": "markdown",
   "metadata": {},
   "source": [
    "## Introduction\n",
    "\n",
    "We are trying to determine whether age, capital gain, capital loss and hours per week can predict if an individual makes above or below 50,000 USD per year.\n",
    "\n",
    "We are using the Adult data set from the UCI Machine Learning Repository.\n",
    "This dataset was retrieved from the 1994 US Census database.\n",
    "The dataset has 14 attributes and 48,842 entries.\n",
    "\n",
    "Our variables of interest are:\n",
    "- Age: the age of an individual [17,90]\n",
    "- Capital Gain: a profit from selling an asset in USD\n",
    "- Capital Loss: a loss from selling an asset in USD\n",
    "- Hours per Week: how many hours the individual has reported to work in a week"
   ]
  },
  {
   "cell_type": "code",
   "execution_count": 52,
   "metadata": {},
   "outputs": [],
   "source": [
    "# Preliminary Exploratory Data Analysis\n",
    "library(tidyverse)\n"
   ]
  },
  {
   "cell_type": "code",
   "execution_count": 53,
   "metadata": {},
   "outputs": [
    {
     "name": "stderr",
     "output_type": "stream",
     "text": [
      "Parsed with column specification:\n",
      "cols(\n",
      "  age = \u001b[32mcol_double()\u001b[39m,\n",
      "  workclass = \u001b[31mcol_character()\u001b[39m,\n",
      "  fnl_wgt = \u001b[31mcol_character()\u001b[39m,\n",
      "  education = \u001b[31mcol_character()\u001b[39m,\n",
      "  education_num = \u001b[31mcol_character()\u001b[39m,\n",
      "  marital_status = \u001b[31mcol_character()\u001b[39m,\n",
      "  occupation = \u001b[31mcol_character()\u001b[39m,\n",
      "  relationship = \u001b[31mcol_character()\u001b[39m,\n",
      "  race = \u001b[31mcol_character()\u001b[39m,\n",
      "  sex = \u001b[31mcol_character()\u001b[39m,\n",
      "  capital_gain = \u001b[31mcol_character()\u001b[39m,\n",
      "  capital_loss = \u001b[31mcol_character()\u001b[39m,\n",
      "  hrs_per_week = \u001b[31mcol_character()\u001b[39m,\n",
      "  native_country = \u001b[31mcol_character()\u001b[39m,\n",
      "  label = \u001b[31mcol_character()\u001b[39m\n",
      ")\n",
      "\n"
     ]
    }
   ],
   "source": [
    "## Read in data\n",
    "adult <- read_delim(\"data/adult.data.txt\", delim=\",\",col_names=c(\"age\", \"workclass\", \"fnl_wgt\",\"education\",\n",
    "    \"education_num\",\"marital_status\",\"occupation\",\"relationship\",\"race\",\"sex\",\"capital_gain\",\"capital_loss\",\n",
    "    \"hrs_per_week\",\"native_country\",\"label\"))"
   ]
  },
  {
   "cell_type": "code",
   "execution_count": 54,
   "metadata": {},
   "outputs": [
    {
     "data": {
      "text/html": [
       "<table>\n",
       "<caption>A tibble: 6 × 5</caption>\n",
       "<thead>\n",
       "\t<tr><th scope=col>age</th><th scope=col>capital_gain</th><th scope=col>capital_loss</th><th scope=col>hrs_per_week</th><th scope=col>label</th></tr>\n",
       "\t<tr><th scope=col>&lt;dbl&gt;</th><th scope=col>&lt;dbl&gt;</th><th scope=col>&lt;dbl&gt;</th><th scope=col>&lt;dbl&gt;</th><th scope=col>&lt;fct&gt;</th></tr>\n",
       "</thead>\n",
       "<tbody>\n",
       "\t<tr><td>39</td><td>2174</td><td>0</td><td>40</td><td> &lt;=50K</td></tr>\n",
       "\t<tr><td>50</td><td><span style=white-space:pre-wrap>   0</span></td><td>0</td><td>13</td><td> &lt;=50K</td></tr>\n",
       "\t<tr><td>38</td><td><span style=white-space:pre-wrap>   0</span></td><td>0</td><td>40</td><td> &lt;=50K</td></tr>\n",
       "\t<tr><td>53</td><td><span style=white-space:pre-wrap>   0</span></td><td>0</td><td>40</td><td> &lt;=50K</td></tr>\n",
       "\t<tr><td>28</td><td><span style=white-space:pre-wrap>   0</span></td><td>0</td><td>40</td><td> &lt;=50K</td></tr>\n",
       "\t<tr><td>37</td><td><span style=white-space:pre-wrap>   0</span></td><td>0</td><td>40</td><td> &lt;=50K</td></tr>\n",
       "</tbody>\n",
       "</table>\n"
      ],
      "text/latex": [
       "A tibble: 6 × 5\n",
       "\\begin{tabular}{lllll}\n",
       " age & capital\\_gain & capital\\_loss & hrs\\_per\\_week & label\\\\\n",
       " <dbl> & <dbl> & <dbl> & <dbl> & <fct>\\\\\n",
       "\\hline\n",
       "\t 39 & 2174 & 0 & 40 &  <=50K\\\\\n",
       "\t 50 &    0 & 0 & 13 &  <=50K\\\\\n",
       "\t 38 &    0 & 0 & 40 &  <=50K\\\\\n",
       "\t 53 &    0 & 0 & 40 &  <=50K\\\\\n",
       "\t 28 &    0 & 0 & 40 &  <=50K\\\\\n",
       "\t 37 &    0 & 0 & 40 &  <=50K\\\\\n",
       "\\end{tabular}\n"
      ],
      "text/markdown": [
       "\n",
       "A tibble: 6 × 5\n",
       "\n",
       "| age &lt;dbl&gt; | capital_gain &lt;dbl&gt; | capital_loss &lt;dbl&gt; | hrs_per_week &lt;dbl&gt; | label &lt;fct&gt; |\n",
       "|---|---|---|---|---|\n",
       "| 39 | 2174 | 0 | 40 |  &lt;=50K |\n",
       "| 50 |    0 | 0 | 13 |  &lt;=50K |\n",
       "| 38 |    0 | 0 | 40 |  &lt;=50K |\n",
       "| 53 |    0 | 0 | 40 |  &lt;=50K |\n",
       "| 28 |    0 | 0 | 40 |  &lt;=50K |\n",
       "| 37 |    0 | 0 | 40 |  &lt;=50K |\n",
       "\n"
      ],
      "text/plain": [
       "  age capital_gain capital_loss hrs_per_week label \n",
       "1 39  2174         0            40            <=50K\n",
       "2 50     0         0            13            <=50K\n",
       "3 38     0         0            40            <=50K\n",
       "4 53     0         0            40            <=50K\n",
       "5 28     0         0            40            <=50K\n",
       "6 37     0         0            40            <=50K"
      ]
     },
     "metadata": {},
     "output_type": "display_data"
    }
   ],
   "source": [
    "## Cleaning and Wrangling\n",
    "adult_tidy <- adult %>%\n",
    "    mutate(label=as_factor(label), capital_gain = as.numeric(capital_gain), \n",
    "           capital_loss = as.numeric(capital_loss), hrs_per_week = as.numeric(hrs_per_week) ) %>%\n",
    "    filter_all(all_vars(. != \" ?\")) %>% #annoying, mention somewhere\n",
    "    select(age,capital_gain,capital_loss,hrs_per_week,label) \n",
    "   \n",
    "head(adult_tidy)"
   ]
  },
  {
   "cell_type": "code",
   "execution_count": 59,
   "metadata": {},
   "outputs": [
    {
     "name": "stderr",
     "output_type": "stream",
     "text": [
      "`summarise()` ungrouping output (override with `.groups` argument)\n",
      "\n"
     ]
    },
    {
     "data": {
      "text/html": [
       "<table>\n",
       "<caption>A tibble: 2 × 5</caption>\n",
       "<thead>\n",
       "\t<tr><th scope=col>label</th><th scope=col>num_labels</th><th scope=col>mean_age</th><th scope=col>mean_cg</th><th scope=col>mean_cl</th></tr>\n",
       "\t<tr><th scope=col>&lt;fct&gt;</th><th scope=col>&lt;int&gt;</th><th scope=col>&lt;dbl&gt;</th><th scope=col>&lt;dbl&gt;</th><th scope=col>&lt;dbl&gt;</th></tr>\n",
       "</thead>\n",
       "<tbody>\n",
       "\t<tr><td> &lt;=50K</td><td>22654</td><td>36.60806</td><td> 148.8938</td><td> 53.4480</td></tr>\n",
       "\t<tr><td> &gt;50K </td><td> 7508</td><td>43.95911</td><td>3937.6798</td><td>193.7507</td></tr>\n",
       "</tbody>\n",
       "</table>\n"
      ],
      "text/latex": [
       "A tibble: 2 × 5\n",
       "\\begin{tabular}{lllll}\n",
       " label & num\\_labels & mean\\_age & mean\\_cg & mean\\_cl\\\\\n",
       " <fct> & <int> & <dbl> & <dbl> & <dbl>\\\\\n",
       "\\hline\n",
       "\t  <=50K & 22654 & 36.60806 &  148.8938 &  53.4480\\\\\n",
       "\t  >50K  &  7508 & 43.95911 & 3937.6798 & 193.7507\\\\\n",
       "\\end{tabular}\n"
      ],
      "text/markdown": [
       "\n",
       "A tibble: 2 × 5\n",
       "\n",
       "| label &lt;fct&gt; | num_labels &lt;int&gt; | mean_age &lt;dbl&gt; | mean_cg &lt;dbl&gt; | mean_cl &lt;dbl&gt; |\n",
       "|---|---|---|---|---|\n",
       "|  &lt;=50K | 22654 | 36.60806 |  148.8938 |  53.4480 |\n",
       "|  &gt;50K  |  7508 | 43.95911 | 3937.6798 | 193.7507 |\n",
       "\n"
      ],
      "text/plain": [
       "  label  num_labels mean_age mean_cg   mean_cl \n",
       "1  <=50K 22654      36.60806  148.8938  53.4480\n",
       "2  >50K   7508      43.95911 3937.6798 193.7507"
      ]
     },
     "metadata": {},
     "output_type": "display_data"
    }
   ],
   "source": [
    "## Summarize \n",
    "adult_tidy %>%\n",
    "    group_by(label)%>%\n",
    "    summarize(num_labels=n(), mean_age = mean(age,na.rm = TRUE), mean_cg = mean(capital_gain, na.rm = TRUE), \n",
    "              mean_cl = mean(capital_loss, na.rm = TRUE))"
   ]
  },
  {
   "cell_type": "code",
   "execution_count": 56,
   "metadata": {},
   "outputs": [],
   "source": [
    "\n",
    "# some sentences explaining that they determined the ratio for training/test set"
   ]
  },
  {
   "cell_type": "code",
   "execution_count": null,
   "metadata": {},
   "outputs": [],
   "source": []
  }
 ],
 "metadata": {
  "kernelspec": {
   "display_name": "R",
   "language": "R",
   "name": "ir"
  },
  "language_info": {
   "codemirror_mode": "r",
   "file_extension": ".r",
   "mimetype": "text/x-r-source",
   "name": "R",
   "pygments_lexer": "r",
   "version": "4.0.0"
  }
 },
 "nbformat": 4,
 "nbformat_minor": 4
}
