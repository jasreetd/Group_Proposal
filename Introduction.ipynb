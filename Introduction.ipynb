{
 "cells": [
  {
   "cell_type": "markdown",
   "metadata": {},
   "source": [
    "## Introduction\n",
    "\n",
    "### Purpose\n",
    "The purpose of this project is to determine whether an individual's age, capital gain, capital loss, or hours per week spent at work can predict whether they will have an annual income above or below 50,000 USD.\n",
    "\n",
    "### Dataset\n",
    "The dataset that we used to answer our question is the \"Adult\" dataset (which is also known as the \"Census Income\" dataset) found from the UCI Machine Repository. This dataset was extracted from a 1994 Census by Barry Becker, and has 14 attributes and 48842 instances. \n",
    "From this dataset we extracted our variables of interest, which are:\n",
    "* The __Age__ of the individual, which in this dataset is composed of individuals in the 17-90 year old range\n",
    "* The __Capital Gain__ of the individual, which is the amount of profit recieved from selling an asset in USD\n",
    "* The __Capital Loss__ of the individual, which is the amount of loss recieved from selling an asset in USD\n",
    "* The __Hours per Week__ the individual has worked \n",
    "\n",
    "\n",
    "Keep in mind that the dataset used in our project is from a 1994 Census, and due to inflation and other factors, the annual income of  50,000 USD in 1994 would be not be equivilant to a 50,000 USD annual income in todays money.\n",
    "Furthermore, during our research we have discovered that between 1994 and 2012, the inequality within total incomes has increased drastically (Kim. & T, 2013). This means that the population of people who are payed a high income is much smaller than the population payed a low income. Since the income inequality has changed since 1994, we are not able to factor that into our project.\n",
    "\n",
    "#### Citation \n",
    "Kim, J., & Tebaldi, E. (2013). Trends and sources of income inequality in the united states. The Journal of Business and Economic Studies (Fairfield, Conn.), 19(2), 1. "
   ]
  },
  {
   "cell_type": "code",
   "execution_count": null,
   "metadata": {},
   "outputs": [],
   "source": []
  }
 ],
 "metadata": {
  "kernelspec": {
   "display_name": "R",
   "language": "R",
   "name": "ir"
  },
  "language_info": {
   "codemirror_mode": "r",
   "file_extension": ".r",
   "mimetype": "text/x-r-source",
   "name": "R",
   "pygments_lexer": "r",
   "version": "4.0.0"
  }
 },
 "nbformat": 4,
 "nbformat_minor": 4
}
