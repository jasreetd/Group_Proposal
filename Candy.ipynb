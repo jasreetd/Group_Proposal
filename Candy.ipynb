{
 "cells": [
  {
   "cell_type": "markdown",
   "metadata": {},
   "source": [
    "# Methods\n",
    "\n",
    "## Our Method:\n",
    "1. Import the data set.\n",
    "\n",
    "2. Clean and wrangle data set to have a tidydata format.\n",
    "3. Visualize relationships between variables of interest:\n",
    "    1. Investment Activity vs Label (>= 50k, > 50k annual income)\n",
    "        1. Bar graph\n",
    "        2. X-Axis: Label \n",
    "        3. Y-Axis: Count of Capital Gains and Capital Losses\n",
    "    2. Capital Gains vs Age\n",
    "        1. Scatter plot\n",
    "        2. X-Axis: Age \n",
    "        3. Y-Axis: Capital Gains (USD)\n",
    "    3. Working Hours per Week vs Age\n",
    "        1. Scatter plot\n",
    "        2. X-Axis: Age\n",
    "        3. Y-Axis: Working Hours per Week\n",
    "        \n",
    "4. Summarize the data set and address class imbalance if one label is more prevalent then the other.\n",
    "5. Tune our classification model (k-nearest neighbours) using predictors of interest.\n",
    "    1. Our dataset provided training and testing data, so we do not have to split our data set.\n",
    "    2. Pre-process our training data (standardize and center).\n",
    "    3. Create a 5 fold cross validation data split using vfold.\n",
    "    4. Determine specifications for the nearest neighbour function.\n",
    "        1. weight_func = \"rectangular\"\n",
    "        2. neighbors = tune()\n",
    "    5. Fit our model for each fold in our cross validation.\n",
    "        3. tune_grid(resamples=vold,grid=10)\n",
    "    6. Create a scatter plot of Accuracy vs k to determine the best k\n",
    "    \n",
    "6. Retrain our classification model (k-nearest neighbours) using our tuned k value and predictors of interest.\n",
    "7. Evaluate the estimate accuracy of our classification model using our test data set.\n",
    "    1. We may need to go back and try various values for #-fold cross validation and/or using different combinations of predictors.\n",
    "\n",
    "## Visualizing Our Results:\n",
    "One way to visualize our results is having several test points on 2D plots with various combinations of our predictors (e.g Capital Gains vs Age). We can use our model to classify these test points and outline them on the 2D plot to see whether the classification visually makes sense and to see whether gauge the weights of the variables in our classification model.\n"
   ]
  },
  {
   "cell_type": "code",
   "execution_count": null,
   "metadata": {},
   "outputs": [],
   "source": []
  }
 ],
 "metadata": {
  "kernelspec": {
   "display_name": "R",
   "language": "R",
   "name": "ir"
  },
  "language_info": {
   "codemirror_mode": "r",
   "file_extension": ".r",
   "mimetype": "text/x-r-source",
   "name": "R",
   "pygments_lexer": "r",
   "version": "4.0.0"
  }
 },
 "nbformat": 4,
 "nbformat_minor": 4
}
