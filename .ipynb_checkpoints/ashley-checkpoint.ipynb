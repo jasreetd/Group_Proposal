{
 "cells": [
  {
   "cell_type": "markdown",
   "metadata": {},
   "source": [
    "# Our Method:\n",
    "Import the data set.\n",
    "Clean and wrangle data set to have a tidydata format.\n",
    "Visualize relationships between variables of interest:\n",
    " A. Investment Activity vs Label (<= 50k, > 50k annual income)\n",
    "     a. Bar graph\n",
    "     b. X-Axis: Label\n",
    "     c. Y-Axis: Count of Capital Gains and Capital Losses\n",
    " B. Capital Gains vs Age\n",
    "     a. Scatter plot\n",
    "     b. X-Axis: Age\n",
    "     c. Y-Axis: Capital Gains (USD)\n",
    " C. Working Hours per Week vs Age\n",
    "     a. Scatter plot\n",
    "     b. X-Axis: Age\n",
    "     c. Y-Axis: Working Hours per Week\n",
    "Summarize the data set and address class imbalance if one label is more prevalent then the other.\n",
    "Tune our classification model (k-nearest neighbours) using predictors of interest.\n",
    " A. Our dataset provided training and testing data, so we do not have to split our data set.\n",
    " B. Pre-process our training data (standardize and center).\n",
    " C. Create a 5 fold cross validation data split using vfold.\n",
    " D. Determine specifications for the nearest neighbour function.\n",
    "     a. weight_func = \"rectangular\"\n",
    "     b. neighbors = tune()\n",
    " E. Fit our model for each fold in our cross validation.\n",
    "     a. tune_grid(resamples=vold,grid=10)\n",
    " F. Create a scatter plot of Accuracy vs k to determine the best k\n",
    "Retrain our classification model (k-nearest neighbours) using our tuned k value and predictors of interest.\n",
    "Evaluate the estimate accuracy of our classification model using our test data set.\n",
    " A. We may need to go back and try various values for #-fold cross validation and/or using different combinations of predictors."
   ]
  },
  {
   "cell_type": "markdown",
   "metadata": {},
   "source": [
    "# Visualize relationships between variables of interest:\n",
    "1. Income and Capital Gains\n",
    "    a. Yearly Income Category vs. Capital Gains\n",
    "   This plots shows that people who make more than 50K per year in income, have a significantly higher amount of capital gains than those who make less than 50K per year. \n",
    "    b. Number of People with Capital Gains in each Yearly Income Category\n",
    "   This plot shows that the number of people with capital gains in the less than 50K income category, is about 2/3 the size of those with capital gains in the more than 50K income category. \n",
    "    c. Average Capital Gains (USD) for both Yearly Income Categories\n",
    "   This graph shows that people in the greater than 50K income category, on average, have more capital gains than those in the less than 50K income category.\n",
    "\n",
    "All three of these plots display evidence that those who with an income greater than 50 000 USD per year experience higher capital gains than those who make less than 50 000 USD per year. \n",
    "\n",
    "2. Income and Capital Losses\n",
    "    a. Yearly Income Category vs. Capital Losses\n",
    "    b. Number of People with Capital Losses in each Yearly Income Category\n",
    "    c. Average Capital Gains (USD) for both Yearly Income Categories\n",
    "    \n",
    "These three bar graphs show no significant correlation between income category and capital losses. An almost even amount of capital losses are experienced by those in both income categories. \n",
    "\n",
    "3. Average Working Hours per Week for each Income Category\n",
    "\n",
    "This bar graph shows that there is no significant difference between the average hours worked per week by each yearly income category. \n",
    "\n",
    "4. Average Age for both Yearly Income Categories\n",
    "Again, this bar graph shows only shows a small difference in the average age of those making a yearly income of less than or greater than 50K per year.\n"
   ]
  },
  {
   "cell_type": "markdown",
   "metadata": {},
   "source": [
    "# Scatter Plots:\n",
    "1. Age vs. Capital Gains & Age vs. Capital Losses\n",
    "Both of these scatterplots show an even distribution of of capital gains or losses across our age range (70,90). There is no evidence that capital gains or losses increase or decrease with age. \n",
    "\n",
    "There is evidence that those in the greater than 50K income category experience more capital gains than those in the <=50K category, as the red and blue points are distinctively separated into the income categories on our Age vs. Capital Gains plot. Alternatively, our Age vs. Capital Losses plot has a mixed distribution of red and blue points across the plot, showing a weak separation of the income categories. \n",
    "\n",
    "Age appears to have no affect on the amount of capital gains or losses in each income category.\n",
    "\n",
    "2. Working Hours per Week vs. Capital Gains & Working Hours per Week vs. Capital Losses\n",
    "Both of these scatterplots show an even distribution of capital gains or losses across the amount of working hour per week. There is no evidence that capital gains or losses will increase or decrease with working hours per week.\n",
    "\n",
    "Again, there is a separation of the income categories in our Working Hours per Week vs. Capital Gains plot, but not in our Working Hours per Week vs. Capital Losses plot. This shows that capital gains are higher for those in the >50K income category, than the <=50K income category. There is little evidence that working hours per week affects the yearly income category classification.\n",
    "\n",
    "3. Age vs. Working Hours per Week\n",
    "This scatterplot is crowed in the center, with people under 50 working in the 40 to 50 hours per week range. This makes sense, as those from 20 to 50 make up the majority of the full-time workforce. The top of the plot is sparce, however this is likely due to the fact that not many people work 75 to 100 hours per week. Similarly, the right side is sparce, which is most likely due to the retirement of people over the age of 60. Overall, there is some evidence that working hours per week will decrease with age, but only due to retirement from the workforce. \n",
    "\n",
    "Points with a great than 50K income classification are somewhat clustered in the centre of the graph around 50 working hours per week, however this is distributed evenly across our age range. Points classified as a yearly income of less than 50K are quite spread out across the plot, showing that those classified as <=50K can work more hours than those classified as >50K, and still make less yearly income. Overall, there is little evidence that age or working hours per week can classify yearly income.\n",
    "\n",
    "\n",
    "\n",
    "# Choosing our predictor variable:\n",
    "\n",
    "After plotting and testing our predictor variables of interest (Capital Gains, Capital Losses, Working Hours per Week, Age), there is sufficient evidence that Capital Gains can be used to classify yearly income. There is also evidence that those with higher capital gains have a higher yearly income, greater than 50 000 USD per year. "
   ]
  }
 ],
 "metadata": {
  "kernelspec": {
   "display_name": "R",
   "language": "R",
   "name": "ir"
  },
  "language_info": {
   "codemirror_mode": "r",
   "file_extension": ".r",
   "mimetype": "text/x-r-source",
   "name": "R",
   "pygments_lexer": "r",
   "version": "4.0.0"
  }
 },
 "nbformat": 4,
 "nbformat_minor": 4
}
